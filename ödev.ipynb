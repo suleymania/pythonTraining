{
  "nbformat": 4,
  "nbformat_minor": 0,
  "metadata": {
    "colab": {
      "name": "ödev.ipynb",
      "provenance": [],
      "authorship_tag": "ABX9TyNC/ubRbIAugy0oPZsT3hzN",
      "include_colab_link": true
    },
    "kernelspec": {
      "name": "python3",
      "display_name": "Python 3"
    },
    "language_info": {
      "name": "python"
    }
  },
  "cells": [
    {
      "cell_type": "markdown",
      "metadata": {
        "id": "view-in-github",
        "colab_type": "text"
      },
      "source": [
        "<a href=\"https://colab.research.google.com/github/suleymania/pythonTraining/blob/main/%C3%B6dev.ipynb\" target=\"_parent\"><img src=\"https://colab.research.google.com/assets/colab-badge.svg\" alt=\"Open In Colab\"/></a>"
      ]
    },
    {
      "cell_type": "code",
      "execution_count": null,
      "metadata": {
        "colab": {
          "base_uri": "https://localhost:8080/"
        },
        "id": "Hc9IO0Fftrp8",
        "outputId": "b0e6e007-4117-44ca-e6b0-371182bde09a"
      },
      "outputs": [
        {
          "output_type": "stream",
          "name": "stdout",
          "text": [
            "ilk sayıyı giriniz: \t1\n",
            "ikinci sayıyı giriniz:\t2\n",
            "üçüncü sayıyı giriniz: \t3\n",
            "Sonuç: 6\n"
          ]
        }
      ],
      "source": [
        "#problem1\n",
        "\n",
        "a=int(input(\"ilk sayıyı giriniz: \\t\"))\n",
        "b=int(input(\"ikinci sayıyı giriniz:\\t\"))\n",
        "c=int(input(\"üçüncü sayıyı giriniz: \\t\"))\n",
        "\n",
        "\n",
        "print(f\"Sonuç: {a*b*c}\")"
      ]
    },
    {
      "cell_type": "code",
      "source": [
        "#problem2\n",
        "a=int(input(\"kaç kilosunuz (kg)?:\\t\"))\n",
        "b=int(input(\"boyunuz kaç (cm)?: \\t\"))\n",
        "\n",
        "\n",
        "\n",
        "\n",
        "print(f\"BEden Kitle İndeksiniz: {a/(b/100*b/100)}\")\n",
        "\n"
      ],
      "metadata": {
        "colab": {
          "base_uri": "https://localhost:8080/"
        },
        "id": "GZlPY7GcR9VC",
        "outputId": "8cb37226-a0a6-4b48-de2f-79c4c8411c2e"
      },
      "execution_count": null,
      "outputs": [
        {
          "output_type": "stream",
          "name": "stdout",
          "text": [
            "kaç kilosunuz (kg)?:\t85\n",
            "boyunuz kaç (cm)?: \t187\n",
            "BEden Kitle İndeksiniz: 24.307243558580456\n"
          ]
        }
      ]
    },
    {
      "cell_type": "code",
      "source": [
        "#problem3\n",
        "\n",
        "km=float(input(\"gidilen km miktarını giriniz: \\t\"))\n",
        "t=float(input(\"aracın km'deki tüketimini giriniz :\\t\"))\n",
        "\n",
        "\n",
        "\n",
        "print(f\"Sonuç: {km*t}\")"
      ],
      "metadata": {
        "colab": {
          "base_uri": "https://localhost:8080/"
        },
        "id": "OWFLlEMStKqI",
        "outputId": "6c2affa6-2fd9-45fa-9842-b82dde0c7c3e"
      },
      "execution_count": null,
      "outputs": [
        {
          "output_type": "stream",
          "name": "stdout",
          "text": [
            "gidilen km miktarını giriniz: \t10.8\n",
            "aracın km deki tüketimini giriniz :\t1\n",
            "Sonuç: 10.8\n"
          ]
        }
      ]
    },
    {
      "cell_type": "code",
      "source": [
        "#problem4\n",
        "\n",
        "ad=(input(\"adınız: \\t\"))\n",
        "soyad=(input(\"soyadınız:\\t\"))\n",
        "numara=int(input(\"tel: \\t\"))\n",
        "\n",
        "\n",
        "print(f\"Ad: {ad} \\nSoyad: {soyad}\\nTel: {numara}\\n\")"
      ],
      "metadata": {
        "colab": {
          "base_uri": "https://localhost:8080/"
        },
        "id": "TSkNmCP_uRYC",
        "outputId": "20946ddd-e3e8-4e69-f5e7-658775b5db28"
      },
      "execution_count": null,
      "outputs": [
        {
          "output_type": "stream",
          "name": "stdout",
          "text": [
            "adınız: \tghgh\n",
            "soyadınız:\tfggf\n",
            "tel: \t445\n",
            "Ad: ghgh \n",
            "Soyad: fggf\n",
            "Tel: 445\n",
            "\n"
          ]
        }
      ]
    },
    {
      "cell_type": "code",
      "source": [
        "#problem5\n",
        "\n",
        "a=int(input(\"ilk sayıyı giriniz: \\t\"))\n",
        "b=int(input(\"ikinci sayıyı giriniz:\\t\"))\n",
        "\n",
        "\n",
        "\n",
        "print(a.replace(a,b))"
      ],
      "metadata": {
        "colab": {
          "base_uri": "https://localhost:8080/",
          "height": 243
        },
        "id": "QDRX7i5GwzPp",
        "outputId": "0af8adda-85c8-4228-f08a-9bb319f69bfa"
      },
      "execution_count": null,
      "outputs": [
        {
          "name": "stdout",
          "output_type": "stream",
          "text": [
            "ilk sayıyı giriniz: \t1\n",
            "ikinci sayıyı giriniz:\t2\n"
          ]
        },
        {
          "output_type": "error",
          "ename": "AttributeError",
          "evalue": "ignored",
          "traceback": [
            "\u001b[0;31m---------------------------------------------------------------------------\u001b[0m",
            "\u001b[0;31mAttributeError\u001b[0m                            Traceback (most recent call last)",
            "\u001b[0;32m<ipython-input-18-2a752f018d3b>\u001b[0m in \u001b[0;36m<module>\u001b[0;34m()\u001b[0m\n\u001b[1;32m      6\u001b[0m \u001b[0;34m\u001b[0m\u001b[0m\n\u001b[1;32m      7\u001b[0m \u001b[0;34m\u001b[0m\u001b[0m\n\u001b[0;32m----> 8\u001b[0;31m \u001b[0mprint\u001b[0m\u001b[0;34m(\u001b[0m\u001b[0ma\u001b[0m\u001b[0;34m.\u001b[0m\u001b[0mreplace\u001b[0m\u001b[0;34m(\u001b[0m\u001b[0ma\u001b[0m\u001b[0;34m,\u001b[0m\u001b[0mb\u001b[0m\u001b[0;34m)\u001b[0m\u001b[0;34m)\u001b[0m\u001b[0;34m\u001b[0m\u001b[0;34m\u001b[0m\u001b[0m\n\u001b[0m",
            "\u001b[0;31mAttributeError\u001b[0m: 'int' object has no attribute 'replace'"
          ]
        }
      ]
    },
    {
      "cell_type": "code",
      "source": [
        ""
      ],
      "metadata": {
        "colab": {
          "base_uri": "https://localhost:8080/",
          "height": 189
        },
        "id": "J0bDcR2TxNE-",
        "outputId": "b8e42508-5c46-4e9c-beee-65b5ff35176c"
      },
      "execution_count": null,
      "outputs": [
        {
          "output_type": "error",
          "ename": "AttributeError",
          "evalue": "ignored",
          "traceback": [
            "\u001b[0;31m---------------------------------------------------------------------------\u001b[0m",
            "\u001b[0;31mAttributeError\u001b[0m                            Traceback (most recent call last)",
            "\u001b[0;32m<ipython-input-16-b3ab93e74a22>\u001b[0m in \u001b[0;36m<module>\u001b[0;34m()\u001b[0m\n\u001b[0;32m----> 1\u001b[0;31m help(a.replace\n\u001b[0m\u001b[1;32m      2\u001b[0m     )\n",
            "\u001b[0;31mAttributeError\u001b[0m: 'int' object has no attribute 'replace'"
          ]
        }
      ]
    },
    {
      "cell_type": "markdown",
      "source": [
        "Problem 1\n",
        "Kullanıcıdan aldığınız 3 tane sayıyı çarparak ekrana yazdırın. Ekrana yazdırma işlemini format metoduyla yapmaya çalışın.\n",
        "\n",
        "Problem 2\n",
        "Kullanıcıdan aldığınız boy ve kilo değerlerine göre kullanıcının beden kitle indeksini bulun.\n",
        "\n",
        "Beden Kitle İndeksi : Kilo / Boy(m) Boy(m)\n",
        "\n",
        "Problem 3\n",
        "Bir aracın kilometrede ne kadar yaktığı ve kaç kilometre yol yaptığı bilgilerini alın ve sürücünü toplam ne kadar ödemesini gerektiğini hesaplayın.\n",
        "\n",
        "Problem 4\n",
        "Kullanıcıdan ad,soyad ve numara bilgisini alarak bunları alt alta ekrana yazdırın.\n",
        "\n",
        "Problem 5\n",
        "Kullanıcıdan iki tane sayı isteyin ve bu sayıların değerlerini birbirleriyle değiştirin.\n",
        "\n",
        "Problem 6\n",
        "Kullanıcıdan bir dik üçgenin dik olan iki kenarını(a,b) alın ve hipotenüs uzunluğunu bulmaya çalışın.\n",
        "\n",
        "Hipotenüs Formülü: a^2 + b^2 = c^2\n",
        "\n",
        "\n",
        "2. dereceden bir bilinmeyenli denklemin köklerini bulma\n",
        "\n",
        "Denklem : ax^2 + bx + c\n",
        "\n",
        "Deltayı Hesaplama:  b ** 2 -  4 * a * c\n",
        "\n",
        "Birinci Kök : (-b - delta ** 0.5) / (2*a)\n",
        "İkinci Kök : (-b + delta ** 0.5) / (2*a)\n"
      ],
      "metadata": {
        "id": "_SrE7ddrOM6L"
      }
    }
  ]
}